{
 "cells": [
  {
   "cell_type": "code",
   "execution_count": 1,
   "metadata": {},
   "outputs": [],
   "source": [
    "import pandas as pd\n",
    "import numpy as np\n",
    "import matplotlib.pyplot as plt\n",
    "import seaborn as sns\n",
    "%matplotlib inline"
   ]
  },
  {
   "cell_type": "markdown",
   "metadata": {},
   "source": [
    "1. Creating dataset"
   ]
  },
  {
   "cell_type": "code",
   "execution_count": 2,
   "metadata": {},
   "outputs": [],
   "source": [
    "from sklearn.datasets import make_classification\n",
    "X, y = make_classification(n_samples=1000, n_features=10, n_informative=3, n_classes=3, random_state=15)"
   ]
  },
  {
   "cell_type": "markdown",
   "metadata": {},
   "source": [
    "2. Train test split"
   ]
  },
  {
   "cell_type": "code",
   "execution_count": 3,
   "metadata": {},
   "outputs": [],
   "source": [
    "from sklearn.model_selection import train_test_split\n",
    "X_train,X_test,y_train,y_test=train_test_split(X,y,test_size=0.30,random_state=42)"
   ]
  },
  {
   "cell_type": "markdown",
   "metadata": {},
   "source": [
    "3. Logistic regression model training"
   ]
  },
  {
   "cell_type": "code",
   "execution_count": 5,
   "metadata": {},
   "outputs": [
    {
     "name": "stdout",
     "output_type": "stream",
     "text": [
      "[2 1 2 1 1 0 0 0 2 0 2 1 2 2 2 2 2 0 0 2 2 1 1 1 1 0 0 0 2 1 0 2 2 1 2 0 0\n",
      " 2 2 1 2 2 2 1 2 0 1 2 0 1 0 0 0 1 1 2 0 0 1 1 0 1 0 1 1 0 2 1 0 1 0 1 2 1\n",
      " 2 2 1 0 1 0 1 0 1 2 2 0 1 2 2 1 1 2 2 0 0 0 2 2 0 1 2 1 2 1 0 2 0 2 0 1 2\n",
      " 1 2 2 1 1 1 1 2 0 2 0 1 2 0 0 2 2 2 1 2 0 2 2 0 0 0 2 0 2 0 1 2 1 1 2 0 0\n",
      " 1 1 2 2 2 1 2 0 2 2 2 1 0 2 0 0 2 0 2 0 0 1 2 0 1 1 1 1 0 2 1 0 0 1 2 2 2\n",
      " 2 2 0 1 1 2 2 1 2 2 2 2 1 0 0 1 2 2 0 0 2 1 2 1 0 0 2 1 1 1 2 2 1 2 1 0 1\n",
      " 0 0 1 0 2 1 0 2 2 1 1 1 2 1 1 0 1 1 0 0 0 0 2 0 0 2 2 2 2 0 2 0 1 2 2 2 1\n",
      " 0 0 1 0 2 1 2 0 0 0 2 2 1 2 0 1 1 0 0 0 1 0 2 2 0 2 0 0 0 1 1 2 0 1 2 2 0\n",
      " 1 2 0 2]\n"
     ]
    }
   ],
   "source": [
    "from sklearn.linear_model import LogisticRegression\n",
    "logistic=LogisticRegression(multi_class='ovr')\n",
    "logistic.fit(X_train,y_train)\n",
    "y_pred=logistic.predict(X_test)\n",
    "print(y_pred)"
   ]
  },
  {
   "cell_type": "markdown",
   "metadata": {},
   "source": [
    "4. Evaluation - scoring/ metrics calculation"
   ]
  },
  {
   "cell_type": "code",
   "execution_count": 6,
   "metadata": {},
   "outputs": [
    {
     "name": "stdout",
     "output_type": "stream",
     "text": [
      "0.79\n",
      "              precision    recall  f1-score   support\n",
      "\n",
      "           0       0.82      0.87      0.84        97\n",
      "           1       0.73      0.81      0.77        91\n",
      "           2       0.82      0.71      0.76       112\n",
      "\n",
      "    accuracy                           0.79       300\n",
      "   macro avg       0.79      0.79      0.79       300\n",
      "weighted avg       0.79      0.79      0.79       300\n",
      "\n",
      "[[84  3 10]\n",
      " [10 74  7]\n",
      " [ 8 25 79]]\n"
     ]
    }
   ],
   "source": [
    "from sklearn.metrics import accuracy_score,classification_report,confusion_matrix\n",
    "score=accuracy_score(y_pred,y_test)\n",
    "print(score)\n",
    "print(classification_report(y_pred,y_test))\n",
    "print(confusion_matrix(y_pred,y_test))"
   ]
  }
 ],
 "metadata": {
  "kernelspec": {
   "display_name": "base",
   "language": "python",
   "name": "python3"
  },
  "language_info": {
   "codemirror_mode": {
    "name": "ipython",
    "version": 3
   },
   "file_extension": ".py",
   "mimetype": "text/x-python",
   "name": "python",
   "nbconvert_exporter": "python",
   "pygments_lexer": "ipython3",
   "version": "3.12.4"
  }
 },
 "nbformat": 4,
 "nbformat_minor": 2
}
